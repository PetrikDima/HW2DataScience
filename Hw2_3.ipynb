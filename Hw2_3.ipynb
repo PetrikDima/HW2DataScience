{
  "nbformat": 4,
  "nbformat_minor": 0,
  "metadata": {
    "colab": {
      "provenance": []
    },
    "kernelspec": {
      "name": "python3",
      "display_name": "Python 3"
    },
    "language_info": {
      "name": "python"
    }
  },
  "cells": [
    {
      "cell_type": "code",
      "execution_count": 41,
      "metadata": {
        "id": "M3rzLYW7Wrml"
      },
      "outputs": [],
      "source": [
        "import pandas as pd"
      ]
    },
    {
      "cell_type": "markdown",
      "source": [
        "Прочитайте csv файл (используйте функцию read_csv)"
      ],
      "metadata": {
        "id": "Ta1oNA3nXJ9r"
      }
    },
    {
      "cell_type": "code",
      "source": [
        "get_data = pd.read_csv('/content/bestsellers with categories.csv')\n",
        "get_data"
      ],
      "metadata": {
        "colab": {
          "base_uri": "https://localhost:8080/",
          "height": 424
        },
        "id": "1R-q4OZoW6sD",
        "outputId": "b0990e6c-cb07-42aa-f4ab-83a690e40006"
      },
      "execution_count": 42,
      "outputs": [
        {
          "output_type": "execute_result",
          "data": {
            "text/plain": [
              "                                                  Name  \\\n",
              "0                        10-Day Green Smoothie Cleanse   \n",
              "1                                    11/22/63: A Novel   \n",
              "2              12 Rules for Life: An Antidote to Chaos   \n",
              "3                               1984 (Signet Classics)   \n",
              "4    5,000 Awesome Facts (About Everything!) (Natio...   \n",
              "..                                                 ...   \n",
              "545       Wrecking Ball (Diary of a Wimpy Kid Book 14)   \n",
              "546  You Are a Badass: How to Stop Doubting Your Gr...   \n",
              "547  You Are a Badass: How to Stop Doubting Your Gr...   \n",
              "548  You Are a Badass: How to Stop Doubting Your Gr...   \n",
              "549  You Are a Badass: How to Stop Doubting Your Gr...   \n",
              "\n",
              "                       Author  User Rating  Reviews  Price  Year        Genre  \n",
              "0                    JJ Smith          4.7    17350      8  2016  Non Fiction  \n",
              "1                Stephen King          4.6     2052     22  2011      Fiction  \n",
              "2          Jordan B. Peterson          4.7    18979     15  2018  Non Fiction  \n",
              "3               George Orwell          4.7    21424      6  2017      Fiction  \n",
              "4    National Geographic Kids          4.8     7665     12  2019  Non Fiction  \n",
              "..                        ...          ...      ...    ...   ...          ...  \n",
              "545               Jeff Kinney          4.9     9413      8  2019      Fiction  \n",
              "546               Jen Sincero          4.7    14331      8  2016  Non Fiction  \n",
              "547               Jen Sincero          4.7    14331      8  2017  Non Fiction  \n",
              "548               Jen Sincero          4.7    14331      8  2018  Non Fiction  \n",
              "549               Jen Sincero          4.7    14331      8  2019  Non Fiction  \n",
              "\n",
              "[550 rows x 7 columns]"
            ],
            "text/html": [
              "\n",
              "  <div id=\"df-19fecadc-b96c-4f0e-920c-3680fa30049d\">\n",
              "    <div class=\"colab-df-container\">\n",
              "      <div>\n",
              "<style scoped>\n",
              "    .dataframe tbody tr th:only-of-type {\n",
              "        vertical-align: middle;\n",
              "    }\n",
              "\n",
              "    .dataframe tbody tr th {\n",
              "        vertical-align: top;\n",
              "    }\n",
              "\n",
              "    .dataframe thead th {\n",
              "        text-align: right;\n",
              "    }\n",
              "</style>\n",
              "<table border=\"1\" class=\"dataframe\">\n",
              "  <thead>\n",
              "    <tr style=\"text-align: right;\">\n",
              "      <th></th>\n",
              "      <th>Name</th>\n",
              "      <th>Author</th>\n",
              "      <th>User Rating</th>\n",
              "      <th>Reviews</th>\n",
              "      <th>Price</th>\n",
              "      <th>Year</th>\n",
              "      <th>Genre</th>\n",
              "    </tr>\n",
              "  </thead>\n",
              "  <tbody>\n",
              "    <tr>\n",
              "      <th>0</th>\n",
              "      <td>10-Day Green Smoothie Cleanse</td>\n",
              "      <td>JJ Smith</td>\n",
              "      <td>4.7</td>\n",
              "      <td>17350</td>\n",
              "      <td>8</td>\n",
              "      <td>2016</td>\n",
              "      <td>Non Fiction</td>\n",
              "    </tr>\n",
              "    <tr>\n",
              "      <th>1</th>\n",
              "      <td>11/22/63: A Novel</td>\n",
              "      <td>Stephen King</td>\n",
              "      <td>4.6</td>\n",
              "      <td>2052</td>\n",
              "      <td>22</td>\n",
              "      <td>2011</td>\n",
              "      <td>Fiction</td>\n",
              "    </tr>\n",
              "    <tr>\n",
              "      <th>2</th>\n",
              "      <td>12 Rules for Life: An Antidote to Chaos</td>\n",
              "      <td>Jordan B. Peterson</td>\n",
              "      <td>4.7</td>\n",
              "      <td>18979</td>\n",
              "      <td>15</td>\n",
              "      <td>2018</td>\n",
              "      <td>Non Fiction</td>\n",
              "    </tr>\n",
              "    <tr>\n",
              "      <th>3</th>\n",
              "      <td>1984 (Signet Classics)</td>\n",
              "      <td>George Orwell</td>\n",
              "      <td>4.7</td>\n",
              "      <td>21424</td>\n",
              "      <td>6</td>\n",
              "      <td>2017</td>\n",
              "      <td>Fiction</td>\n",
              "    </tr>\n",
              "    <tr>\n",
              "      <th>4</th>\n",
              "      <td>5,000 Awesome Facts (About Everything!) (Natio...</td>\n",
              "      <td>National Geographic Kids</td>\n",
              "      <td>4.8</td>\n",
              "      <td>7665</td>\n",
              "      <td>12</td>\n",
              "      <td>2019</td>\n",
              "      <td>Non Fiction</td>\n",
              "    </tr>\n",
              "    <tr>\n",
              "      <th>...</th>\n",
              "      <td>...</td>\n",
              "      <td>...</td>\n",
              "      <td>...</td>\n",
              "      <td>...</td>\n",
              "      <td>...</td>\n",
              "      <td>...</td>\n",
              "      <td>...</td>\n",
              "    </tr>\n",
              "    <tr>\n",
              "      <th>545</th>\n",
              "      <td>Wrecking Ball (Diary of a Wimpy Kid Book 14)</td>\n",
              "      <td>Jeff Kinney</td>\n",
              "      <td>4.9</td>\n",
              "      <td>9413</td>\n",
              "      <td>8</td>\n",
              "      <td>2019</td>\n",
              "      <td>Fiction</td>\n",
              "    </tr>\n",
              "    <tr>\n",
              "      <th>546</th>\n",
              "      <td>You Are a Badass: How to Stop Doubting Your Gr...</td>\n",
              "      <td>Jen Sincero</td>\n",
              "      <td>4.7</td>\n",
              "      <td>14331</td>\n",
              "      <td>8</td>\n",
              "      <td>2016</td>\n",
              "      <td>Non Fiction</td>\n",
              "    </tr>\n",
              "    <tr>\n",
              "      <th>547</th>\n",
              "      <td>You Are a Badass: How to Stop Doubting Your Gr...</td>\n",
              "      <td>Jen Sincero</td>\n",
              "      <td>4.7</td>\n",
              "      <td>14331</td>\n",
              "      <td>8</td>\n",
              "      <td>2017</td>\n",
              "      <td>Non Fiction</td>\n",
              "    </tr>\n",
              "    <tr>\n",
              "      <th>548</th>\n",
              "      <td>You Are a Badass: How to Stop Doubting Your Gr...</td>\n",
              "      <td>Jen Sincero</td>\n",
              "      <td>4.7</td>\n",
              "      <td>14331</td>\n",
              "      <td>8</td>\n",
              "      <td>2018</td>\n",
              "      <td>Non Fiction</td>\n",
              "    </tr>\n",
              "    <tr>\n",
              "      <th>549</th>\n",
              "      <td>You Are a Badass: How to Stop Doubting Your Gr...</td>\n",
              "      <td>Jen Sincero</td>\n",
              "      <td>4.7</td>\n",
              "      <td>14331</td>\n",
              "      <td>8</td>\n",
              "      <td>2019</td>\n",
              "      <td>Non Fiction</td>\n",
              "    </tr>\n",
              "  </tbody>\n",
              "</table>\n",
              "<p>550 rows × 7 columns</p>\n",
              "</div>\n",
              "      <button class=\"colab-df-convert\" onclick=\"convertToInteractive('df-19fecadc-b96c-4f0e-920c-3680fa30049d')\"\n",
              "              title=\"Convert this dataframe to an interactive table.\"\n",
              "              style=\"display:none;\">\n",
              "        \n",
              "  <svg xmlns=\"http://www.w3.org/2000/svg\" height=\"24px\"viewBox=\"0 0 24 24\"\n",
              "       width=\"24px\">\n",
              "    <path d=\"M0 0h24v24H0V0z\" fill=\"none\"/>\n",
              "    <path d=\"M18.56 5.44l.94 2.06.94-2.06 2.06-.94-2.06-.94-.94-2.06-.94 2.06-2.06.94zm-11 1L8.5 8.5l.94-2.06 2.06-.94-2.06-.94L8.5 2.5l-.94 2.06-2.06.94zm10 10l.94 2.06.94-2.06 2.06-.94-2.06-.94-.94-2.06-.94 2.06-2.06.94z\"/><path d=\"M17.41 7.96l-1.37-1.37c-.4-.4-.92-.59-1.43-.59-.52 0-1.04.2-1.43.59L10.3 9.45l-7.72 7.72c-.78.78-.78 2.05 0 2.83L4 21.41c.39.39.9.59 1.41.59.51 0 1.02-.2 1.41-.59l7.78-7.78 2.81-2.81c.8-.78.8-2.07 0-2.86zM5.41 20L4 18.59l7.72-7.72 1.47 1.35L5.41 20z\"/>\n",
              "  </svg>\n",
              "      </button>\n",
              "      \n",
              "  <style>\n",
              "    .colab-df-container {\n",
              "      display:flex;\n",
              "      flex-wrap:wrap;\n",
              "      gap: 12px;\n",
              "    }\n",
              "\n",
              "    .colab-df-convert {\n",
              "      background-color: #E8F0FE;\n",
              "      border: none;\n",
              "      border-radius: 50%;\n",
              "      cursor: pointer;\n",
              "      display: none;\n",
              "      fill: #1967D2;\n",
              "      height: 32px;\n",
              "      padding: 0 0 0 0;\n",
              "      width: 32px;\n",
              "    }\n",
              "\n",
              "    .colab-df-convert:hover {\n",
              "      background-color: #E2EBFA;\n",
              "      box-shadow: 0px 1px 2px rgba(60, 64, 67, 0.3), 0px 1px 3px 1px rgba(60, 64, 67, 0.15);\n",
              "      fill: #174EA6;\n",
              "    }\n",
              "\n",
              "    [theme=dark] .colab-df-convert {\n",
              "      background-color: #3B4455;\n",
              "      fill: #D2E3FC;\n",
              "    }\n",
              "\n",
              "    [theme=dark] .colab-df-convert:hover {\n",
              "      background-color: #434B5C;\n",
              "      box-shadow: 0px 1px 3px 1px rgba(0, 0, 0, 0.15);\n",
              "      filter: drop-shadow(0px 1px 2px rgba(0, 0, 0, 0.3));\n",
              "      fill: #FFFFFF;\n",
              "    }\n",
              "  </style>\n",
              "\n",
              "      <script>\n",
              "        const buttonEl =\n",
              "          document.querySelector('#df-19fecadc-b96c-4f0e-920c-3680fa30049d button.colab-df-convert');\n",
              "        buttonEl.style.display =\n",
              "          google.colab.kernel.accessAllowed ? 'block' : 'none';\n",
              "\n",
              "        async function convertToInteractive(key) {\n",
              "          const element = document.querySelector('#df-19fecadc-b96c-4f0e-920c-3680fa30049d');\n",
              "          const dataTable =\n",
              "            await google.colab.kernel.invokeFunction('convertToInteractive',\n",
              "                                                     [key], {});\n",
              "          if (!dataTable) return;\n",
              "\n",
              "          const docLinkHtml = 'Like what you see? Visit the ' +\n",
              "            '<a target=\"_blank\" href=https://colab.research.google.com/notebooks/data_table.ipynb>data table notebook</a>'\n",
              "            + ' to learn more about interactive tables.';\n",
              "          element.innerHTML = '';\n",
              "          dataTable['output_type'] = 'display_data';\n",
              "          await google.colab.output.renderOutput(dataTable, element);\n",
              "          const docLink = document.createElement('div');\n",
              "          docLink.innerHTML = docLinkHtml;\n",
              "          element.appendChild(docLink);\n",
              "        }\n",
              "      </script>\n",
              "    </div>\n",
              "  </div>\n",
              "  "
            ]
          },
          "metadata": {},
          "execution_count": 42
        }
      ]
    },
    {
      "cell_type": "markdown",
      "source": [
        "Выведите первый пять строчек (используется функцию head)"
      ],
      "metadata": {
        "id": "qBKLOD3GXH31"
      }
    },
    {
      "cell_type": "code",
      "source": [
        "get_data.head(5)"
      ],
      "metadata": {
        "colab": {
          "base_uri": "https://localhost:8080/",
          "height": 206
        },
        "id": "9bvs-41VW_uj",
        "outputId": "d16be14c-33e3-4aa0-9cd9-a0b2cae4f1a4"
      },
      "execution_count": 43,
      "outputs": [
        {
          "output_type": "execute_result",
          "data": {
            "text/plain": [
              "                                                Name  \\\n",
              "0                      10-Day Green Smoothie Cleanse   \n",
              "1                                  11/22/63: A Novel   \n",
              "2            12 Rules for Life: An Antidote to Chaos   \n",
              "3                             1984 (Signet Classics)   \n",
              "4  5,000 Awesome Facts (About Everything!) (Natio...   \n",
              "\n",
              "                     Author  User Rating  Reviews  Price  Year        Genre  \n",
              "0                  JJ Smith          4.7    17350      8  2016  Non Fiction  \n",
              "1              Stephen King          4.6     2052     22  2011      Fiction  \n",
              "2        Jordan B. Peterson          4.7    18979     15  2018  Non Fiction  \n",
              "3             George Orwell          4.7    21424      6  2017      Fiction  \n",
              "4  National Geographic Kids          4.8     7665     12  2019  Non Fiction  "
            ],
            "text/html": [
              "\n",
              "  <div id=\"df-6480830d-7e80-4752-a6ff-3b53255a2df3\">\n",
              "    <div class=\"colab-df-container\">\n",
              "      <div>\n",
              "<style scoped>\n",
              "    .dataframe tbody tr th:only-of-type {\n",
              "        vertical-align: middle;\n",
              "    }\n",
              "\n",
              "    .dataframe tbody tr th {\n",
              "        vertical-align: top;\n",
              "    }\n",
              "\n",
              "    .dataframe thead th {\n",
              "        text-align: right;\n",
              "    }\n",
              "</style>\n",
              "<table border=\"1\" class=\"dataframe\">\n",
              "  <thead>\n",
              "    <tr style=\"text-align: right;\">\n",
              "      <th></th>\n",
              "      <th>Name</th>\n",
              "      <th>Author</th>\n",
              "      <th>User Rating</th>\n",
              "      <th>Reviews</th>\n",
              "      <th>Price</th>\n",
              "      <th>Year</th>\n",
              "      <th>Genre</th>\n",
              "    </tr>\n",
              "  </thead>\n",
              "  <tbody>\n",
              "    <tr>\n",
              "      <th>0</th>\n",
              "      <td>10-Day Green Smoothie Cleanse</td>\n",
              "      <td>JJ Smith</td>\n",
              "      <td>4.7</td>\n",
              "      <td>17350</td>\n",
              "      <td>8</td>\n",
              "      <td>2016</td>\n",
              "      <td>Non Fiction</td>\n",
              "    </tr>\n",
              "    <tr>\n",
              "      <th>1</th>\n",
              "      <td>11/22/63: A Novel</td>\n",
              "      <td>Stephen King</td>\n",
              "      <td>4.6</td>\n",
              "      <td>2052</td>\n",
              "      <td>22</td>\n",
              "      <td>2011</td>\n",
              "      <td>Fiction</td>\n",
              "    </tr>\n",
              "    <tr>\n",
              "      <th>2</th>\n",
              "      <td>12 Rules for Life: An Antidote to Chaos</td>\n",
              "      <td>Jordan B. Peterson</td>\n",
              "      <td>4.7</td>\n",
              "      <td>18979</td>\n",
              "      <td>15</td>\n",
              "      <td>2018</td>\n",
              "      <td>Non Fiction</td>\n",
              "    </tr>\n",
              "    <tr>\n",
              "      <th>3</th>\n",
              "      <td>1984 (Signet Classics)</td>\n",
              "      <td>George Orwell</td>\n",
              "      <td>4.7</td>\n",
              "      <td>21424</td>\n",
              "      <td>6</td>\n",
              "      <td>2017</td>\n",
              "      <td>Fiction</td>\n",
              "    </tr>\n",
              "    <tr>\n",
              "      <th>4</th>\n",
              "      <td>5,000 Awesome Facts (About Everything!) (Natio...</td>\n",
              "      <td>National Geographic Kids</td>\n",
              "      <td>4.8</td>\n",
              "      <td>7665</td>\n",
              "      <td>12</td>\n",
              "      <td>2019</td>\n",
              "      <td>Non Fiction</td>\n",
              "    </tr>\n",
              "  </tbody>\n",
              "</table>\n",
              "</div>\n",
              "      <button class=\"colab-df-convert\" onclick=\"convertToInteractive('df-6480830d-7e80-4752-a6ff-3b53255a2df3')\"\n",
              "              title=\"Convert this dataframe to an interactive table.\"\n",
              "              style=\"display:none;\">\n",
              "        \n",
              "  <svg xmlns=\"http://www.w3.org/2000/svg\" height=\"24px\"viewBox=\"0 0 24 24\"\n",
              "       width=\"24px\">\n",
              "    <path d=\"M0 0h24v24H0V0z\" fill=\"none\"/>\n",
              "    <path d=\"M18.56 5.44l.94 2.06.94-2.06 2.06-.94-2.06-.94-.94-2.06-.94 2.06-2.06.94zm-11 1L8.5 8.5l.94-2.06 2.06-.94-2.06-.94L8.5 2.5l-.94 2.06-2.06.94zm10 10l.94 2.06.94-2.06 2.06-.94-2.06-.94-.94-2.06-.94 2.06-2.06.94z\"/><path d=\"M17.41 7.96l-1.37-1.37c-.4-.4-.92-.59-1.43-.59-.52 0-1.04.2-1.43.59L10.3 9.45l-7.72 7.72c-.78.78-.78 2.05 0 2.83L4 21.41c.39.39.9.59 1.41.59.51 0 1.02-.2 1.41-.59l7.78-7.78 2.81-2.81c.8-.78.8-2.07 0-2.86zM5.41 20L4 18.59l7.72-7.72 1.47 1.35L5.41 20z\"/>\n",
              "  </svg>\n",
              "      </button>\n",
              "      \n",
              "  <style>\n",
              "    .colab-df-container {\n",
              "      display:flex;\n",
              "      flex-wrap:wrap;\n",
              "      gap: 12px;\n",
              "    }\n",
              "\n",
              "    .colab-df-convert {\n",
              "      background-color: #E8F0FE;\n",
              "      border: none;\n",
              "      border-radius: 50%;\n",
              "      cursor: pointer;\n",
              "      display: none;\n",
              "      fill: #1967D2;\n",
              "      height: 32px;\n",
              "      padding: 0 0 0 0;\n",
              "      width: 32px;\n",
              "    }\n",
              "\n",
              "    .colab-df-convert:hover {\n",
              "      background-color: #E2EBFA;\n",
              "      box-shadow: 0px 1px 2px rgba(60, 64, 67, 0.3), 0px 1px 3px 1px rgba(60, 64, 67, 0.15);\n",
              "      fill: #174EA6;\n",
              "    }\n",
              "\n",
              "    [theme=dark] .colab-df-convert {\n",
              "      background-color: #3B4455;\n",
              "      fill: #D2E3FC;\n",
              "    }\n",
              "\n",
              "    [theme=dark] .colab-df-convert:hover {\n",
              "      background-color: #434B5C;\n",
              "      box-shadow: 0px 1px 3px 1px rgba(0, 0, 0, 0.15);\n",
              "      filter: drop-shadow(0px 1px 2px rgba(0, 0, 0, 0.3));\n",
              "      fill: #FFFFFF;\n",
              "    }\n",
              "  </style>\n",
              "\n",
              "      <script>\n",
              "        const buttonEl =\n",
              "          document.querySelector('#df-6480830d-7e80-4752-a6ff-3b53255a2df3 button.colab-df-convert');\n",
              "        buttonEl.style.display =\n",
              "          google.colab.kernel.accessAllowed ? 'block' : 'none';\n",
              "\n",
              "        async function convertToInteractive(key) {\n",
              "          const element = document.querySelector('#df-6480830d-7e80-4752-a6ff-3b53255a2df3');\n",
              "          const dataTable =\n",
              "            await google.colab.kernel.invokeFunction('convertToInteractive',\n",
              "                                                     [key], {});\n",
              "          if (!dataTable) return;\n",
              "\n",
              "          const docLinkHtml = 'Like what you see? Visit the ' +\n",
              "            '<a target=\"_blank\" href=https://colab.research.google.com/notebooks/data_table.ipynb>data table notebook</a>'\n",
              "            + ' to learn more about interactive tables.';\n",
              "          element.innerHTML = '';\n",
              "          dataTable['output_type'] = 'display_data';\n",
              "          await google.colab.output.renderOutput(dataTable, element);\n",
              "          const docLink = document.createElement('div');\n",
              "          docLink.innerHTML = docLinkHtml;\n",
              "          element.appendChild(docLink);\n",
              "        }\n",
              "      </script>\n",
              "    </div>\n",
              "  </div>\n",
              "  "
            ]
          },
          "metadata": {},
          "execution_count": 43
        }
      ]
    },
    {
      "cell_type": "markdown",
      "source": [
        "Выведите размеры датасета (используйте атрибут shape)"
      ],
      "metadata": {
        "id": "cyXenlVQXNIz"
      }
    },
    {
      "cell_type": "code",
      "source": [
        "get_data.shape"
      ],
      "metadata": {
        "colab": {
          "base_uri": "https://localhost:8080/"
        },
        "id": "ouqG0O8KXHPS",
        "outputId": "819cdb10-104a-4064-9841-214897cf38b1"
      },
      "execution_count": 44,
      "outputs": [
        {
          "output_type": "execute_result",
          "data": {
            "text/plain": [
              "(550, 7)"
            ]
          },
          "metadata": {},
          "execution_count": 44
        }
      ]
    },
    {
      "cell_type": "markdown",
      "source": [
        "О скольки книгах хранит данные датасет? Відповідь: 550"
      ],
      "metadata": {
        "id": "_clmufJc7Wdt"
      }
    },
    {
      "cell_type": "code",
      "source": [
        "count_books, other = get_data.shape\n",
        "count_books"
      ],
      "metadata": {
        "id": "hSuTMZPEXQyy",
        "colab": {
          "base_uri": "https://localhost:8080/"
        },
        "outputId": "412c18ba-94f8-4450-946c-f1e96d622679"
      },
      "execution_count": 45,
      "outputs": [
        {
          "output_type": "execute_result",
          "data": {
            "text/plain": [
              "550"
            ]
          },
          "metadata": {},
          "execution_count": 45
        }
      ]
    },
    {
      "cell_type": "markdown",
      "source": [
        "Змінити регістр назв колонок"
      ],
      "metadata": {
        "id": "Dc8R4z3JBEeY"
      }
    },
    {
      "cell_type": "code",
      "source": [
        "get_data.columns = ['name', 'author', 'user_rating', 'reviews', 'price', 'year', 'genre']\n",
        "get_data"
      ],
      "metadata": {
        "id": "eOsdgapH7ejF",
        "colab": {
          "base_uri": "https://localhost:8080/",
          "height": 424
        },
        "outputId": "69345944-17ef-4ff4-a0a7-8071cb72d94e"
      },
      "execution_count": 46,
      "outputs": [
        {
          "output_type": "execute_result",
          "data": {
            "text/plain": [
              "                                                  name  \\\n",
              "0                        10-Day Green Smoothie Cleanse   \n",
              "1                                    11/22/63: A Novel   \n",
              "2              12 Rules for Life: An Antidote to Chaos   \n",
              "3                               1984 (Signet Classics)   \n",
              "4    5,000 Awesome Facts (About Everything!) (Natio...   \n",
              "..                                                 ...   \n",
              "545       Wrecking Ball (Diary of a Wimpy Kid Book 14)   \n",
              "546  You Are a Badass: How to Stop Doubting Your Gr...   \n",
              "547  You Are a Badass: How to Stop Doubting Your Gr...   \n",
              "548  You Are a Badass: How to Stop Doubting Your Gr...   \n",
              "549  You Are a Badass: How to Stop Doubting Your Gr...   \n",
              "\n",
              "                       author  user_rating  reviews  price  year        genre  \n",
              "0                    JJ Smith          4.7    17350      8  2016  Non Fiction  \n",
              "1                Stephen King          4.6     2052     22  2011      Fiction  \n",
              "2          Jordan B. Peterson          4.7    18979     15  2018  Non Fiction  \n",
              "3               George Orwell          4.7    21424      6  2017      Fiction  \n",
              "4    National Geographic Kids          4.8     7665     12  2019  Non Fiction  \n",
              "..                        ...          ...      ...    ...   ...          ...  \n",
              "545               Jeff Kinney          4.9     9413      8  2019      Fiction  \n",
              "546               Jen Sincero          4.7    14331      8  2016  Non Fiction  \n",
              "547               Jen Sincero          4.7    14331      8  2017  Non Fiction  \n",
              "548               Jen Sincero          4.7    14331      8  2018  Non Fiction  \n",
              "549               Jen Sincero          4.7    14331      8  2019  Non Fiction  \n",
              "\n",
              "[550 rows x 7 columns]"
            ],
            "text/html": [
              "\n",
              "  <div id=\"df-6fbdf7e6-7562-4422-b68f-f96e17a8ea95\">\n",
              "    <div class=\"colab-df-container\">\n",
              "      <div>\n",
              "<style scoped>\n",
              "    .dataframe tbody tr th:only-of-type {\n",
              "        vertical-align: middle;\n",
              "    }\n",
              "\n",
              "    .dataframe tbody tr th {\n",
              "        vertical-align: top;\n",
              "    }\n",
              "\n",
              "    .dataframe thead th {\n",
              "        text-align: right;\n",
              "    }\n",
              "</style>\n",
              "<table border=\"1\" class=\"dataframe\">\n",
              "  <thead>\n",
              "    <tr style=\"text-align: right;\">\n",
              "      <th></th>\n",
              "      <th>name</th>\n",
              "      <th>author</th>\n",
              "      <th>user_rating</th>\n",
              "      <th>reviews</th>\n",
              "      <th>price</th>\n",
              "      <th>year</th>\n",
              "      <th>genre</th>\n",
              "    </tr>\n",
              "  </thead>\n",
              "  <tbody>\n",
              "    <tr>\n",
              "      <th>0</th>\n",
              "      <td>10-Day Green Smoothie Cleanse</td>\n",
              "      <td>JJ Smith</td>\n",
              "      <td>4.7</td>\n",
              "      <td>17350</td>\n",
              "      <td>8</td>\n",
              "      <td>2016</td>\n",
              "      <td>Non Fiction</td>\n",
              "    </tr>\n",
              "    <tr>\n",
              "      <th>1</th>\n",
              "      <td>11/22/63: A Novel</td>\n",
              "      <td>Stephen King</td>\n",
              "      <td>4.6</td>\n",
              "      <td>2052</td>\n",
              "      <td>22</td>\n",
              "      <td>2011</td>\n",
              "      <td>Fiction</td>\n",
              "    </tr>\n",
              "    <tr>\n",
              "      <th>2</th>\n",
              "      <td>12 Rules for Life: An Antidote to Chaos</td>\n",
              "      <td>Jordan B. Peterson</td>\n",
              "      <td>4.7</td>\n",
              "      <td>18979</td>\n",
              "      <td>15</td>\n",
              "      <td>2018</td>\n",
              "      <td>Non Fiction</td>\n",
              "    </tr>\n",
              "    <tr>\n",
              "      <th>3</th>\n",
              "      <td>1984 (Signet Classics)</td>\n",
              "      <td>George Orwell</td>\n",
              "      <td>4.7</td>\n",
              "      <td>21424</td>\n",
              "      <td>6</td>\n",
              "      <td>2017</td>\n",
              "      <td>Fiction</td>\n",
              "    </tr>\n",
              "    <tr>\n",
              "      <th>4</th>\n",
              "      <td>5,000 Awesome Facts (About Everything!) (Natio...</td>\n",
              "      <td>National Geographic Kids</td>\n",
              "      <td>4.8</td>\n",
              "      <td>7665</td>\n",
              "      <td>12</td>\n",
              "      <td>2019</td>\n",
              "      <td>Non Fiction</td>\n",
              "    </tr>\n",
              "    <tr>\n",
              "      <th>...</th>\n",
              "      <td>...</td>\n",
              "      <td>...</td>\n",
              "      <td>...</td>\n",
              "      <td>...</td>\n",
              "      <td>...</td>\n",
              "      <td>...</td>\n",
              "      <td>...</td>\n",
              "    </tr>\n",
              "    <tr>\n",
              "      <th>545</th>\n",
              "      <td>Wrecking Ball (Diary of a Wimpy Kid Book 14)</td>\n",
              "      <td>Jeff Kinney</td>\n",
              "      <td>4.9</td>\n",
              "      <td>9413</td>\n",
              "      <td>8</td>\n",
              "      <td>2019</td>\n",
              "      <td>Fiction</td>\n",
              "    </tr>\n",
              "    <tr>\n",
              "      <th>546</th>\n",
              "      <td>You Are a Badass: How to Stop Doubting Your Gr...</td>\n",
              "      <td>Jen Sincero</td>\n",
              "      <td>4.7</td>\n",
              "      <td>14331</td>\n",
              "      <td>8</td>\n",
              "      <td>2016</td>\n",
              "      <td>Non Fiction</td>\n",
              "    </tr>\n",
              "    <tr>\n",
              "      <th>547</th>\n",
              "      <td>You Are a Badass: How to Stop Doubting Your Gr...</td>\n",
              "      <td>Jen Sincero</td>\n",
              "      <td>4.7</td>\n",
              "      <td>14331</td>\n",
              "      <td>8</td>\n",
              "      <td>2017</td>\n",
              "      <td>Non Fiction</td>\n",
              "    </tr>\n",
              "    <tr>\n",
              "      <th>548</th>\n",
              "      <td>You Are a Badass: How to Stop Doubting Your Gr...</td>\n",
              "      <td>Jen Sincero</td>\n",
              "      <td>4.7</td>\n",
              "      <td>14331</td>\n",
              "      <td>8</td>\n",
              "      <td>2018</td>\n",
              "      <td>Non Fiction</td>\n",
              "    </tr>\n",
              "    <tr>\n",
              "      <th>549</th>\n",
              "      <td>You Are a Badass: How to Stop Doubting Your Gr...</td>\n",
              "      <td>Jen Sincero</td>\n",
              "      <td>4.7</td>\n",
              "      <td>14331</td>\n",
              "      <td>8</td>\n",
              "      <td>2019</td>\n",
              "      <td>Non Fiction</td>\n",
              "    </tr>\n",
              "  </tbody>\n",
              "</table>\n",
              "<p>550 rows × 7 columns</p>\n",
              "</div>\n",
              "      <button class=\"colab-df-convert\" onclick=\"convertToInteractive('df-6fbdf7e6-7562-4422-b68f-f96e17a8ea95')\"\n",
              "              title=\"Convert this dataframe to an interactive table.\"\n",
              "              style=\"display:none;\">\n",
              "        \n",
              "  <svg xmlns=\"http://www.w3.org/2000/svg\" height=\"24px\"viewBox=\"0 0 24 24\"\n",
              "       width=\"24px\">\n",
              "    <path d=\"M0 0h24v24H0V0z\" fill=\"none\"/>\n",
              "    <path d=\"M18.56 5.44l.94 2.06.94-2.06 2.06-.94-2.06-.94-.94-2.06-.94 2.06-2.06.94zm-11 1L8.5 8.5l.94-2.06 2.06-.94-2.06-.94L8.5 2.5l-.94 2.06-2.06.94zm10 10l.94 2.06.94-2.06 2.06-.94-2.06-.94-.94-2.06-.94 2.06-2.06.94z\"/><path d=\"M17.41 7.96l-1.37-1.37c-.4-.4-.92-.59-1.43-.59-.52 0-1.04.2-1.43.59L10.3 9.45l-7.72 7.72c-.78.78-.78 2.05 0 2.83L4 21.41c.39.39.9.59 1.41.59.51 0 1.02-.2 1.41-.59l7.78-7.78 2.81-2.81c.8-.78.8-2.07 0-2.86zM5.41 20L4 18.59l7.72-7.72 1.47 1.35L5.41 20z\"/>\n",
              "  </svg>\n",
              "      </button>\n",
              "      \n",
              "  <style>\n",
              "    .colab-df-container {\n",
              "      display:flex;\n",
              "      flex-wrap:wrap;\n",
              "      gap: 12px;\n",
              "    }\n",
              "\n",
              "    .colab-df-convert {\n",
              "      background-color: #E8F0FE;\n",
              "      border: none;\n",
              "      border-radius: 50%;\n",
              "      cursor: pointer;\n",
              "      display: none;\n",
              "      fill: #1967D2;\n",
              "      height: 32px;\n",
              "      padding: 0 0 0 0;\n",
              "      width: 32px;\n",
              "    }\n",
              "\n",
              "    .colab-df-convert:hover {\n",
              "      background-color: #E2EBFA;\n",
              "      box-shadow: 0px 1px 2px rgba(60, 64, 67, 0.3), 0px 1px 3px 1px rgba(60, 64, 67, 0.15);\n",
              "      fill: #174EA6;\n",
              "    }\n",
              "\n",
              "    [theme=dark] .colab-df-convert {\n",
              "      background-color: #3B4455;\n",
              "      fill: #D2E3FC;\n",
              "    }\n",
              "\n",
              "    [theme=dark] .colab-df-convert:hover {\n",
              "      background-color: #434B5C;\n",
              "      box-shadow: 0px 1px 3px 1px rgba(0, 0, 0, 0.15);\n",
              "      filter: drop-shadow(0px 1px 2px rgba(0, 0, 0, 0.3));\n",
              "      fill: #FFFFFF;\n",
              "    }\n",
              "  </style>\n",
              "\n",
              "      <script>\n",
              "        const buttonEl =\n",
              "          document.querySelector('#df-6fbdf7e6-7562-4422-b68f-f96e17a8ea95 button.colab-df-convert');\n",
              "        buttonEl.style.display =\n",
              "          google.colab.kernel.accessAllowed ? 'block' : 'none';\n",
              "\n",
              "        async function convertToInteractive(key) {\n",
              "          const element = document.querySelector('#df-6fbdf7e6-7562-4422-b68f-f96e17a8ea95');\n",
              "          const dataTable =\n",
              "            await google.colab.kernel.invokeFunction('convertToInteractive',\n",
              "                                                     [key], {});\n",
              "          if (!dataTable) return;\n",
              "\n",
              "          const docLinkHtml = 'Like what you see? Visit the ' +\n",
              "            '<a target=\"_blank\" href=https://colab.research.google.com/notebooks/data_table.ipynb>data table notebook</a>'\n",
              "            + ' to learn more about interactive tables.';\n",
              "          element.innerHTML = '';\n",
              "          dataTable['output_type'] = 'display_data';\n",
              "          await google.colab.output.renderOutput(dataTable, element);\n",
              "          const docLink = document.createElement('div');\n",
              "          docLink.innerHTML = docLinkHtml;\n",
              "          element.appendChild(docLink);\n",
              "        }\n",
              "      </script>\n",
              "    </div>\n",
              "  </div>\n",
              "  "
            ]
          },
          "metadata": {},
          "execution_count": 46
        }
      ]
    },
    {
      "cell_type": "markdown",
      "source": [
        "## Первичное исследование данных#"
      ],
      "metadata": {
        "id": "66rwpqY8PkxR"
      }
    },
    {
      "cell_type": "markdown",
      "source": [
        "Проверьте у всех ли строк хватает данных: выведите количество пропусков (na) в каждом из столбцов (используйте функции isna и sum)"
      ],
      "metadata": {
        "id": "sMaBG1jGBLKe"
      }
    },
    {
      "cell_type": "code",
      "source": [
        "get_data.isna().sum() // len(get_data)"
      ],
      "metadata": {
        "colab": {
          "base_uri": "https://localhost:8080/"
        },
        "id": "bT7SHe6xA_Ye",
        "outputId": "44513b31-5164-4adb-b12d-6985c61bc66a"
      },
      "execution_count": 47,
      "outputs": [
        {
          "output_type": "execute_result",
          "data": {
            "text/plain": [
              "name           0\n",
              "author         0\n",
              "user_rating    0\n",
              "reviews        0\n",
              "price          0\n",
              "year           0\n",
              "genre          0\n",
              "dtype: int64"
            ]
          },
          "metadata": {},
          "execution_count": 47
        }
      ]
    },
    {
      "cell_type": "markdown",
      "source": [
        "Ответ: Есть ли в каких либо переменных пропуски? Відповідь: Немає"
      ],
      "metadata": {
        "id": "xNah5jxaBv_C"
      }
    },
    {
      "cell_type": "markdown",
      "source": [
        "Проверьте, какие есть уникальные значения в колонке genre (используйте функцию unique)"
      ],
      "metadata": {
        "id": "FqmS8x01B78H"
      }
    },
    {
      "cell_type": "code",
      "source": [
        "uniqueValues = (get_data['genre'].append(get_data['genre'])).unique()\n",
        "print(uniqueValues)"
      ],
      "metadata": {
        "colab": {
          "base_uri": "https://localhost:8080/"
        },
        "id": "LoZnCCBWBRCp",
        "outputId": "66125b23-71b5-4c3a-ce3b-4d99e1216541"
      },
      "execution_count": 48,
      "outputs": [
        {
          "output_type": "stream",
          "name": "stdout",
          "text": [
            "['Non Fiction' 'Fiction']\n"
          ]
        }
      ]
    },
    {
      "cell_type": "markdown",
      "source": [
        "Ответ: Какие есть уникальные жанры? Відповідь: немає"
      ],
      "metadata": {
        "id": "qpcWNLhSCnGZ"
      }
    },
    {
      "cell_type": "markdown",
      "source": [
        "Теперь посмотрите на распределение цен: постройте диаграмму (используйте kind='hist')"
      ],
      "metadata": {
        "id": "-65VACi-Cq6P"
      }
    },
    {
      "cell_type": "code",
      "source": [
        "import matplotlib.pyplot as plt\n",
        "ax = get_data['price'].plot.hist(figsize=(12, 10))"
      ],
      "metadata": {
        "colab": {
          "base_uri": "https://localhost:8080/",
          "height": 592
        },
        "id": "ejOkZeRECL_-",
        "outputId": "11ad0b1f-7235-4052-afe9-ba2e8f4a03de"
      },
      "execution_count": 49,
      "outputs": [
        {
          "output_type": "display_data",
          "data": {
            "text/plain": [
              "<Figure size 864x720 with 1 Axes>"
            ],
            "image/png": "[encoded data removed]"
          },
          "metadata": {
            "needs_background": "light"
          }
        }
      ]
    },
    {
      "cell_type": "markdown",
      "source": [
        "Определите, какая цена у нас максимальная, минимальная, средняя, медианная (используйте функции max, min, mean, median)"
      ],
      "metadata": {
        "id": "DYxAVdzkEdMO"
      }
    },
    {
      "cell_type": "code",
      "source": [
        "print(get_data['price'].max())\n",
        "print(get_data['price'].min())\n",
        "print(get_data['price'].mean())\n",
        "print(get_data['price'].median())"
      ],
      "metadata": {
        "colab": {
          "base_uri": "https://localhost:8080/"
        },
        "id": "EEL095tDD-1x",
        "outputId": "69d4e0f2-02b6-48eb-a5bc-22e59a910340"
      },
      "execution_count": 50,
      "outputs": [
        {
          "output_type": "stream",
          "name": "stdout",
          "text": [
            "105\n",
            "0\n",
            "13.1\n",
            "11.0\n"
          ]
        }
      ]
    },
    {
      "cell_type": "markdown",
      "source": [
        "Ответ: Mаксимальная цена? 105\n",
        "\n",
        "Ответ: Минимальная цена?  0\n",
        "\n",
        "Ответ: Средняя цена?  13.1\n",
        "\n",
        "Ответ: Медианная цена?  11.0"
      ],
      "metadata": {
        "id": "scsmws73FDDn"
      }
    },
    {
      "cell_type": "markdown",
      "source": [
        "## Поиск и сортировка данных#"
      ],
      "metadata": {
        "id": "VLUF2R2NPpTo"
      }
    },
    {
      "cell_type": "markdown",
      "source": [
        "Ответ: Какой рейтинг в датасете наивысший? Ответ: 4.9\n"
      ],
      "metadata": {
        "id": "HYg9r6peFOfW"
      }
    },
    {
      "cell_type": "code",
      "source": [
        "get_data['user_rating'].max()"
      ],
      "metadata": {
        "colab": {
          "base_uri": "https://localhost:8080/"
        },
        "id": "ktOEMUdwEgD2",
        "outputId": "c0f105c0-847e-4331-d1fb-b3470104c4d3"
      },
      "execution_count": 51,
      "outputs": [
        {
          "output_type": "execute_result",
          "data": {
            "text/plain": [
              "4.9"
            ]
          },
          "metadata": {},
          "execution_count": 51
        }
      ]
    },
    {
      "cell_type": "markdown",
      "source": [
        "Ответ: Сколько книг имеют такой рейтинг? Ответ: 52"
      ],
      "metadata": {
        "id": "8NwZXAONFWTT"
      }
    },
    {
      "cell_type": "code",
      "source": [
        "max_value = get_data['user_rating'].max()\n",
        "len(get_data[get_data['user_rating'] == max_value])"
      ],
      "metadata": {
        "colab": {
          "base_uri": "https://localhost:8080/"
        },
        "id": "AOpPyFapFS3i",
        "outputId": "7af3057b-b529-4883-db2e-2c5584b722c8"
      },
      "execution_count": 52,
      "outputs": [
        {
          "output_type": "execute_result",
          "data": {
            "text/plain": [
              "52"
            ]
          },
          "metadata": {},
          "execution_count": 52
        }
      ]
    },
    {
      "cell_type": "markdown",
      "source": [
        "Ответ: У какой книги больше всего отзывов? Ответ: Where the Crawdads Sing"
      ],
      "metadata": {
        "id": "VzZ9-Ef1G4L6"
      }
    },
    {
      "cell_type": "code",
      "source": [
        "max_reviews = get_data['reviews'].max()\n",
        "get_one_book = get_data[get_data['reviews'] == max_reviews]\n",
        "get_one_book[['name']]"
      ],
      "metadata": {
        "colab": {
          "base_uri": "https://localhost:8080/",
          "height": 81
        },
        "id": "tYTMyD2YFeT6",
        "outputId": "afaa4475-fa20-4707-93b3-5a5040746e64"
      },
      "execution_count": 53,
      "outputs": [
        {
          "output_type": "execute_result",
          "data": {
            "text/plain": [
              "                        name\n",
              "534  Where the Crawdads Sing"
            ],
            "text/html": [
              "\n",
              "  <div id=\"df-a17049e7-c926-4ba4-87a3-2deb79e50b86\">\n",
              "    <div class=\"colab-df-container\">\n",
              "      <div>\n",
              "<style scoped>\n",
              "    .dataframe tbody tr th:only-of-type {\n",
              "        vertical-align: middle;\n",
              "    }\n",
              "\n",
              "    .dataframe tbody tr th {\n",
              "        vertical-align: top;\n",
              "    }\n",
              "\n",
              "    .dataframe thead th {\n",
              "        text-align: right;\n",
              "    }\n",
              "</style>\n",
              "<table border=\"1\" class=\"dataframe\">\n",
              "  <thead>\n",
              "    <tr style=\"text-align: right;\">\n",
              "      <th></th>\n",
              "      <th>name</th>\n",
              "    </tr>\n",
              "  </thead>\n",
              "  <tbody>\n",
              "    <tr>\n",
              "      <th>534</th>\n",
              "      <td>Where the Crawdads Sing</td>\n",
              "    </tr>\n",
              "  </tbody>\n",
              "</table>\n",
              "</div>\n",
              "      <button class=\"colab-df-convert\" onclick=\"convertToInteractive('df-a17049e7-c926-4ba4-87a3-2deb79e50b86')\"\n",
              "              title=\"Convert this dataframe to an interactive table.\"\n",
              "              style=\"display:none;\">\n",
              "        \n",
              "  <svg xmlns=\"http://www.w3.org/2000/svg\" height=\"24px\"viewBox=\"0 0 24 24\"\n",
              "       width=\"24px\">\n",
              "    <path d=\"M0 0h24v24H0V0z\" fill=\"none\"/>\n",
              "    <path d=\"M18.56 5.44l.94 2.06.94-2.06 2.06-.94-2.06-.94-.94-2.06-.94 2.06-2.06.94zm-11 1L8.5 8.5l.94-2.06 2.06-.94-2.06-.94L8.5 2.5l-.94 2.06-2.06.94zm10 10l.94 2.06.94-2.06 2.06-.94-2.06-.94-.94-2.06-.94 2.06-2.06.94z\"/><path d=\"M17.41 7.96l-1.37-1.37c-.4-.4-.92-.59-1.43-.59-.52 0-1.04.2-1.43.59L10.3 9.45l-7.72 7.72c-.78.78-.78 2.05 0 2.83L4 21.41c.39.39.9.59 1.41.59.51 0 1.02-.2 1.41-.59l7.78-7.78 2.81-2.81c.8-.78.8-2.07 0-2.86zM5.41 20L4 18.59l7.72-7.72 1.47 1.35L5.41 20z\"/>\n",
              "  </svg>\n",
              "      </button>\n",
              "      \n",
              "  <style>\n",
              "    .colab-df-container {\n",
              "      display:flex;\n",
              "      flex-wrap:wrap;\n",
              "      gap: 12px;\n",
              "    }\n",
              "\n",
              "    .colab-df-convert {\n",
              "      background-color: #E8F0FE;\n",
              "      border: none;\n",
              "      border-radius: 50%;\n",
              "      cursor: pointer;\n",
              "      display: none;\n",
              "      fill: #1967D2;\n",
              "      height: 32px;\n",
              "      padding: 0 0 0 0;\n",
              "      width: 32px;\n",
              "    }\n",
              "\n",
              "    .colab-df-convert:hover {\n",
              "      background-color: #E2EBFA;\n",
              "      box-shadow: 0px 1px 2px rgba(60, 64, 67, 0.3), 0px 1px 3px 1px rgba(60, 64, 67, 0.15);\n",
              "      fill: #174EA6;\n",
              "    }\n",
              "\n",
              "    [theme=dark] .colab-df-convert {\n",
              "      background-color: #3B4455;\n",
              "      fill: #D2E3FC;\n",
              "    }\n",
              "\n",
              "    [theme=dark] .colab-df-convert:hover {\n",
              "      background-color: #434B5C;\n",
              "      box-shadow: 0px 1px 3px 1px rgba(0, 0, 0, 0.15);\n",
              "      filter: drop-shadow(0px 1px 2px rgba(0, 0, 0, 0.3));\n",
              "      fill: #FFFFFF;\n",
              "    }\n",
              "  </style>\n",
              "\n",
              "      <script>\n",
              "        const buttonEl =\n",
              "          document.querySelector('#df-a17049e7-c926-4ba4-87a3-2deb79e50b86 button.colab-df-convert');\n",
              "        buttonEl.style.display =\n",
              "          google.colab.kernel.accessAllowed ? 'block' : 'none';\n",
              "\n",
              "        async function convertToInteractive(key) {\n",
              "          const element = document.querySelector('#df-a17049e7-c926-4ba4-87a3-2deb79e50b86');\n",
              "          const dataTable =\n",
              "            await google.colab.kernel.invokeFunction('convertToInteractive',\n",
              "                                                     [key], {});\n",
              "          if (!dataTable) return;\n",
              "\n",
              "          const docLinkHtml = 'Like what you see? Visit the ' +\n",
              "            '<a target=\"_blank\" href=https://colab.research.google.com/notebooks/data_table.ipynb>data table notebook</a>'\n",
              "            + ' to learn more about interactive tables.';\n",
              "          element.innerHTML = '';\n",
              "          dataTable['output_type'] = 'display_data';\n",
              "          await google.colab.output.renderOutput(dataTable, element);\n",
              "          const docLink = document.createElement('div');\n",
              "          docLink.innerHTML = docLinkHtml;\n",
              "          element.appendChild(docLink);\n",
              "        }\n",
              "      </script>\n",
              "    </div>\n",
              "  </div>\n",
              "  "
            ]
          },
          "metadata": {},
          "execution_count": 53
        }
      ]
    },
    {
      "cell_type": "markdown",
      "source": [
        "Ответ: Из тех книг, что попали в Топ-50 в 2015 году, какая книга самая дорогая (можно использовать промежуточный датафрейм)? Ответ:"
      ],
      "metadata": {
        "id": "yNknP2bRH6Z8"
      }
    },
    {
      "cell_type": "code",
      "source": [
        "copy_data = get_data[['name', 'user_rating', 'price', 'year']]\n",
        "data = copy_data[copy_data['user_rating'] == max_value]\n",
        "get_2015 = data[data['year'] == 2015]\n",
        "get_2015.groupby('price', sort=False).first(0)[0:1]"
      ],
      "metadata": {
        "colab": {
          "base_uri": "https://localhost:8080/",
          "height": 112
        },
        "id": "e0oDXRn6G-qu",
        "outputId": "6ce39459-078a-4dc1-f24f-f7affd7f9c8e"
      },
      "execution_count": 54,
      "outputs": [
        {
          "output_type": "execute_result",
          "data": {
            "text/plain": [
              "                               name  user_rating  year\n",
              "price                                                 \n",
              "17     Humans of New York : Stories          4.9  2015"
            ],
            "text/html": [
              "\n",
              "  <div id=\"df-d7b4573d-c4da-4ad9-8a30-317de154a6c0\">\n",
              "    <div class=\"colab-df-container\">\n",
              "      <div>\n",
              "<style scoped>\n",
              "    .dataframe tbody tr th:only-of-type {\n",
              "        vertical-align: middle;\n",
              "    }\n",
              "\n",
              "    .dataframe tbody tr th {\n",
              "        vertical-align: top;\n",
              "    }\n",
              "\n",
              "    .dataframe thead th {\n",
              "        text-align: right;\n",
              "    }\n",
              "</style>\n",
              "<table border=\"1\" class=\"dataframe\">\n",
              "  <thead>\n",
              "    <tr style=\"text-align: right;\">\n",
              "      <th></th>\n",
              "      <th>name</th>\n",
              "      <th>user_rating</th>\n",
              "      <th>year</th>\n",
              "    </tr>\n",
              "    <tr>\n",
              "      <th>price</th>\n",
              "      <th></th>\n",
              "      <th></th>\n",
              "      <th></th>\n",
              "    </tr>\n",
              "  </thead>\n",
              "  <tbody>\n",
              "    <tr>\n",
              "      <th>17</th>\n",
              "      <td>Humans of New York : Stories</td>\n",
              "      <td>4.9</td>\n",
              "      <td>2015</td>\n",
              "    </tr>\n",
              "  </tbody>\n",
              "</table>\n",
              "</div>\n",
              "      <button class=\"colab-df-convert\" onclick=\"convertToInteractive('df-d7b4573d-c4da-4ad9-8a30-317de154a6c0')\"\n",
              "              title=\"Convert this dataframe to an interactive table.\"\n",
              "              style=\"display:none;\">\n",
              "        \n",
              "  <svg xmlns=\"http://www.w3.org/2000/svg\" height=\"24px\"viewBox=\"0 0 24 24\"\n",
              "       width=\"24px\">\n",
              "    <path d=\"M0 0h24v24H0V0z\" fill=\"none\"/>\n",
              "    <path d=\"M18.56 5.44l.94 2.06.94-2.06 2.06-.94-2.06-.94-.94-2.06-.94 2.06-2.06.94zm-11 1L8.5 8.5l.94-2.06 2.06-.94-2.06-.94L8.5 2.5l-.94 2.06-2.06.94zm10 10l.94 2.06.94-2.06 2.06-.94-2.06-.94-.94-2.06-.94 2.06-2.06.94z\"/><path d=\"M17.41 7.96l-1.37-1.37c-.4-.4-.92-.59-1.43-.59-.52 0-1.04.2-1.43.59L10.3 9.45l-7.72 7.72c-.78.78-.78 2.05 0 2.83L4 21.41c.39.39.9.59 1.41.59.51 0 1.02-.2 1.41-.59l7.78-7.78 2.81-2.81c.8-.78.8-2.07 0-2.86zM5.41 20L4 18.59l7.72-7.72 1.47 1.35L5.41 20z\"/>\n",
              "  </svg>\n",
              "      </button>\n",
              "      \n",
              "  <style>\n",
              "    .colab-df-container {\n",
              "      display:flex;\n",
              "      flex-wrap:wrap;\n",
              "      gap: 12px;\n",
              "    }\n",
              "\n",
              "    .colab-df-convert {\n",
              "      background-color: #E8F0FE;\n",
              "      border: none;\n",
              "      border-radius: 50%;\n",
              "      cursor: pointer;\n",
              "      display: none;\n",
              "      fill: #1967D2;\n",
              "      height: 32px;\n",
              "      padding: 0 0 0 0;\n",
              "      width: 32px;\n",
              "    }\n",
              "\n",
              "    .colab-df-convert:hover {\n",
              "      background-color: #E2EBFA;\n",
              "      box-shadow: 0px 1px 2px rgba(60, 64, 67, 0.3), 0px 1px 3px 1px rgba(60, 64, 67, 0.15);\n",
              "      fill: #174EA6;\n",
              "    }\n",
              "\n",
              "    [theme=dark] .colab-df-convert {\n",
              "      background-color: #3B4455;\n",
              "      fill: #D2E3FC;\n",
              "    }\n",
              "\n",
              "    [theme=dark] .colab-df-convert:hover {\n",
              "      background-color: #434B5C;\n",
              "      box-shadow: 0px 1px 3px 1px rgba(0, 0, 0, 0.15);\n",
              "      filter: drop-shadow(0px 1px 2px rgba(0, 0, 0, 0.3));\n",
              "      fill: #FFFFFF;\n",
              "    }\n",
              "  </style>\n",
              "\n",
              "      <script>\n",
              "        const buttonEl =\n",
              "          document.querySelector('#df-d7b4573d-c4da-4ad9-8a30-317de154a6c0 button.colab-df-convert');\n",
              "        buttonEl.style.display =\n",
              "          google.colab.kernel.accessAllowed ? 'block' : 'none';\n",
              "\n",
              "        async function convertToInteractive(key) {\n",
              "          const element = document.querySelector('#df-d7b4573d-c4da-4ad9-8a30-317de154a6c0');\n",
              "          const dataTable =\n",
              "            await google.colab.kernel.invokeFunction('convertToInteractive',\n",
              "                                                     [key], {});\n",
              "          if (!dataTable) return;\n",
              "\n",
              "          const docLinkHtml = 'Like what you see? Visit the ' +\n",
              "            '<a target=\"_blank\" href=https://colab.research.google.com/notebooks/data_table.ipynb>data table notebook</a>'\n",
              "            + ' to learn more about interactive tables.';\n",
              "          element.innerHTML = '';\n",
              "          dataTable['output_type'] = 'display_data';\n",
              "          await google.colab.output.renderOutput(dataTable, element);\n",
              "          const docLink = document.createElement('div');\n",
              "          docLink.innerHTML = docLinkHtml;\n",
              "          element.appendChild(docLink);\n",
              "        }\n",
              "      </script>\n",
              "    </div>\n",
              "  </div>\n",
              "  "
            ]
          },
          "metadata": {},
          "execution_count": 54
        }
      ]
    },
    {
      "cell_type": "markdown",
      "source": [],
      "metadata": {
        "id": "TfVtEzrSLf0C"
      }
    },
    {
      "cell_type": "markdown",
      "source": [
        "Ответ: Сколько книг жанра Fiction попали в Топ-50 в 2010 году (используйте &)? Ответ: 20"
      ],
      "metadata": {
        "id": "7U3QV1KBJ63U"
      }
    },
    {
      "cell_type": "code",
      "source": [
        "copy_genre = get_data[['name', 'user_rating', 'year', 'genre']]\n",
        "data = copy_genre[(copy_genre['genre'] == 'Fiction') & (copy_genre['year'] == 2010)]\n",
        "len(data)"
      ],
      "metadata": {
        "colab": {
          "base_uri": "https://localhost:8080/"
        },
        "id": "w57yTcomIROF",
        "outputId": "81a6a3aa-ec82-499e-f026-d07b8032aa41"
      },
      "execution_count": 55,
      "outputs": [
        {
          "output_type": "execute_result",
          "data": {
            "text/plain": [
              "20"
            ]
          },
          "metadata": {},
          "execution_count": 55
        }
      ]
    },
    {
      "cell_type": "markdown",
      "source": [],
      "metadata": {
        "id": "fQISk_KhM4YT"
      }
    },
    {
      "cell_type": "markdown",
      "source": [
        "Ответ: Сколько книг c рейтингом 4.9 попало в рейтинг в 2010 и 2011 годах (используйте | или функцию isin)? Ответ: 1"
      ],
      "metadata": {
        "id": "36mAOaxQMuFS"
      }
    },
    {
      "cell_type": "code",
      "source": [
        "copy_1011 = get_data[['name', 'user_rating', 'year', 'genre']]\n",
        "data = copy_1011[(copy_1011['user_rating'] == max_value) & ((copy_1011['year'] == 2010) | (copy_1011['year'] == 2011))] \n",
        "len(data)"
      ],
      "metadata": {
        "colab": {
          "base_uri": "https://localhost:8080/"
        },
        "id": "fnWZqrMvKGta",
        "outputId": "30414b4d-b256-4d2e-be24-011141a0237d"
      },
      "execution_count": 56,
      "outputs": [
        {
          "output_type": "execute_result",
          "data": {
            "text/plain": [
              "1"
            ]
          },
          "metadata": {},
          "execution_count": 56
        }
      ]
    },
    {
      "cell_type": "markdown",
      "source": [
        "И напоследок, давайте отсортируем по возрастанию цены все книги, которые попали в рейтинг в 2015 году и стоят дешевле 8 долларов (используйте функцию sort_values)."
      ],
      "metadata": {
        "id": "Q-2ajy9MNjjj"
      }
    },
    {
      "cell_type": "code",
      "source": [
        "copy_2015 = get_data[['name', 'user_rating', 'year', 'price']]\n",
        "data = copy_2015[(copy_2015['year'] == 2015) & (copy_2015['price'] <= 8)]\n",
        "data.sort_values(by='price')"
      ],
      "metadata": {
        "colab": {
          "base_uri": "https://localhost:8080/",
          "height": 739
        },
        "id": "5rDaoz1QNGSe",
        "outputId": "c4074722-a857-40b9-d749-3054db144dac"
      },
      "execution_count": 57,
      "outputs": [
        {
          "output_type": "execute_result",
          "data": {
            "text/plain": [
              "                                                  name  user_rating  year  \\\n",
              "507                              To Kill a Mockingbird          4.8  2015   \n",
              "54   Creative Haven Creative Cats Coloring Book (Ad...          4.8  2015   \n",
              "111                                    First 100 Words          4.7  2015   \n",
              "123                               Giraffes Can't Dance          4.8  2015   \n",
              "206                         Knock-Knock Jokes for Kids          4.5  2015   \n",
              "210                      Laugh-Out-Loud Jokes for Kids          4.6  2015   \n",
              "224                                   Love You Forever          4.8  2015   \n",
              "28                        Baby Touch and Feel: Animals          4.6  2015   \n",
              "55   Creative Haven Owls Coloring Book (Adult Color...          4.8  2015   \n",
              "63                      Dear Zoo: A Lift-the-Flap Book          4.8  2015   \n",
              "89   Dover Creative Haven Art Nouveau Animal Design...          4.6  2015   \n",
              "478                        The Very Hungry Caterpillar          4.9  2015   \n",
              "201  Killing Reagan: The Violent Assault That Chang...          4.6  2015   \n",
              "376  The Four Agreements: A Practical Guide to Pers...          4.7  2015   \n",
              "16   Adult Coloring Book: Stress Relieving Animal D...          4.6  2015   \n",
              "17      Adult Coloring Book: Stress Relieving Patterns          4.4  2015   \n",
              "253              Old School (Diary of a Wimpy Kid #10)          4.8  2015   \n",
              "248                          Oh, the Places You'll Go!          4.9  2015   \n",
              "325  The 5 Love Languages: The Secret to Love that ...          4.8  2015   \n",
              "350                          The Book with No Pictures          4.8  2015   \n",
              "18   Adult Coloring Books: A Coloring Book for Adul...          4.5  2015   \n",
              "191  Jesus Calling: Enjoying Peace in His Presence ...          4.9  2015   \n",
              "\n",
              "     price  \n",
              "507      0  \n",
              "54       4  \n",
              "111      4  \n",
              "123      4  \n",
              "206      4  \n",
              "210      4  \n",
              "224      5  \n",
              "28       5  \n",
              "55       5  \n",
              "63       5  \n",
              "89       5  \n",
              "478      5  \n",
              "201      5  \n",
              "376      6  \n",
              "16       6  \n",
              "17       6  \n",
              "253      7  \n",
              "248      8  \n",
              "325      8  \n",
              "350      8  \n",
              "18       8  \n",
              "191      8  "
            ],
            "text/html": [
              "\n",
              "  <div id=\"df-2901b0e4-e9df-4d38-bd5a-988f00a1d7af\">\n",
              "    <div class=\"colab-df-container\">\n",
              "      <div>\n",
              "<style scoped>\n",
              "    .dataframe tbody tr th:only-of-type {\n",
              "        vertical-align: middle;\n",
              "    }\n",
              "\n",
              "    .dataframe tbody tr th {\n",
              "        vertical-align: top;\n",
              "    }\n",
              "\n",
              "    .dataframe thead th {\n",
              "        text-align: right;\n",
              "    }\n",
              "</style>\n",
              "<table border=\"1\" class=\"dataframe\">\n",
              "  <thead>\n",
              "    <tr style=\"text-align: right;\">\n",
              "      <th></th>\n",
              "      <th>name</th>\n",
              "      <th>user_rating</th>\n",
              "      <th>year</th>\n",
              "      <th>price</th>\n",
              "    </tr>\n",
              "  </thead>\n",
              "  <tbody>\n",
              "    <tr>\n",
              "      <th>507</th>\n",
              "      <td>To Kill a Mockingbird</td>\n",
              "      <td>4.8</td>\n",
              "      <td>2015</td>\n",
              "      <td>0</td>\n",
              "    </tr>\n",
              "    <tr>\n",
              "      <th>54</th>\n",
              "      <td>Creative Haven Creative Cats Coloring Book (Ad...</td>\n",
              "      <td>4.8</td>\n",
              "      <td>2015</td>\n",
              "      <td>4</td>\n",
              "    </tr>\n",
              "    <tr>\n",
              "      <th>111</th>\n",
              "      <td>First 100 Words</td>\n",
              "      <td>4.7</td>\n",
              "      <td>2015</td>\n",
              "      <td>4</td>\n",
              "    </tr>\n",
              "    <tr>\n",
              "      <th>123</th>\n",
              "      <td>Giraffes Can't Dance</td>\n",
              "      <td>4.8</td>\n",
              "      <td>2015</td>\n",
              "      <td>4</td>\n",
              "    </tr>\n",
              "    <tr>\n",
              "      <th>206</th>\n",
              "      <td>Knock-Knock Jokes for Kids</td>\n",
              "      <td>4.5</td>\n",
              "      <td>2015</td>\n",
              "      <td>4</td>\n",
              "    </tr>\n",
              "    <tr>\n",
              "      <th>210</th>\n",
              "      <td>Laugh-Out-Loud Jokes for Kids</td>\n",
              "      <td>4.6</td>\n",
              "      <td>2015</td>\n",
              "      <td>4</td>\n",
              "    </tr>\n",
              "    <tr>\n",
              "      <th>224</th>\n",
              "      <td>Love You Forever</td>\n",
              "      <td>4.8</td>\n",
              "      <td>2015</td>\n",
              "      <td>5</td>\n",
              "    </tr>\n",
              "    <tr>\n",
              "      <th>28</th>\n",
              "      <td>Baby Touch and Feel: Animals</td>\n",
              "      <td>4.6</td>\n",
              "      <td>2015</td>\n",
              "      <td>5</td>\n",
              "    </tr>\n",
              "    <tr>\n",
              "      <th>55</th>\n",
              "      <td>Creative Haven Owls Coloring Book (Adult Color...</td>\n",
              "      <td>4.8</td>\n",
              "      <td>2015</td>\n",
              "      <td>5</td>\n",
              "    </tr>\n",
              "    <tr>\n",
              "      <th>63</th>\n",
              "      <td>Dear Zoo: A Lift-the-Flap Book</td>\n",
              "      <td>4.8</td>\n",
              "      <td>2015</td>\n",
              "      <td>5</td>\n",
              "    </tr>\n",
              "    <tr>\n",
              "      <th>89</th>\n",
              "      <td>Dover Creative Haven Art Nouveau Animal Design...</td>\n",
              "      <td>4.6</td>\n",
              "      <td>2015</td>\n",
              "      <td>5</td>\n",
              "    </tr>\n",
              "    <tr>\n",
              "      <th>478</th>\n",
              "      <td>The Very Hungry Caterpillar</td>\n",
              "      <td>4.9</td>\n",
              "      <td>2015</td>\n",
              "      <td>5</td>\n",
              "    </tr>\n",
              "    <tr>\n",
              "      <th>201</th>\n",
              "      <td>Killing Reagan: The Violent Assault That Chang...</td>\n",
              "      <td>4.6</td>\n",
              "      <td>2015</td>\n",
              "      <td>5</td>\n",
              "    </tr>\n",
              "    <tr>\n",
              "      <th>376</th>\n",
              "      <td>The Four Agreements: A Practical Guide to Pers...</td>\n",
              "      <td>4.7</td>\n",
              "      <td>2015</td>\n",
              "      <td>6</td>\n",
              "    </tr>\n",
              "    <tr>\n",
              "      <th>16</th>\n",
              "      <td>Adult Coloring Book: Stress Relieving Animal D...</td>\n",
              "      <td>4.6</td>\n",
              "      <td>2015</td>\n",
              "      <td>6</td>\n",
              "    </tr>\n",
              "    <tr>\n",
              "      <th>17</th>\n",
              "      <td>Adult Coloring Book: Stress Relieving Patterns</td>\n",
              "      <td>4.4</td>\n",
              "      <td>2015</td>\n",
              "      <td>6</td>\n",
              "    </tr>\n",
              "    <tr>\n",
              "      <th>253</th>\n",
              "      <td>Old School (Diary of a Wimpy Kid #10)</td>\n",
              "      <td>4.8</td>\n",
              "      <td>2015</td>\n",
              "      <td>7</td>\n",
              "    </tr>\n",
              "    <tr>\n",
              "      <th>248</th>\n",
              "      <td>Oh, the Places You'll Go!</td>\n",
              "      <td>4.9</td>\n",
              "      <td>2015</td>\n",
              "      <td>8</td>\n",
              "    </tr>\n",
              "    <tr>\n",
              "      <th>325</th>\n",
              "      <td>The 5 Love Languages: The Secret to Love that ...</td>\n",
              "      <td>4.8</td>\n",
              "      <td>2015</td>\n",
              "      <td>8</td>\n",
              "    </tr>\n",
              "    <tr>\n",
              "      <th>350</th>\n",
              "      <td>The Book with No Pictures</td>\n",
              "      <td>4.8</td>\n",
              "      <td>2015</td>\n",
              "      <td>8</td>\n",
              "    </tr>\n",
              "    <tr>\n",
              "      <th>18</th>\n",
              "      <td>Adult Coloring Books: A Coloring Book for Adul...</td>\n",
              "      <td>4.5</td>\n",
              "      <td>2015</td>\n",
              "      <td>8</td>\n",
              "    </tr>\n",
              "    <tr>\n",
              "      <th>191</th>\n",
              "      <td>Jesus Calling: Enjoying Peace in His Presence ...</td>\n",
              "      <td>4.9</td>\n",
              "      <td>2015</td>\n",
              "      <td>8</td>\n",
              "    </tr>\n",
              "  </tbody>\n",
              "</table>\n",
              "</div>\n",
              "      <button class=\"colab-df-convert\" onclick=\"convertToInteractive('df-2901b0e4-e9df-4d38-bd5a-988f00a1d7af')\"\n",
              "              title=\"Convert this dataframe to an interactive table.\"\n",
              "              style=\"display:none;\">\n",
              "        \n",
              "  <svg xmlns=\"http://www.w3.org/2000/svg\" height=\"24px\"viewBox=\"0 0 24 24\"\n",
              "       width=\"24px\">\n",
              "    <path d=\"M0 0h24v24H0V0z\" fill=\"none\"/>\n",
              "    <path d=\"M18.56 5.44l.94 2.06.94-2.06 2.06-.94-2.06-.94-.94-2.06-.94 2.06-2.06.94zm-11 1L8.5 8.5l.94-2.06 2.06-.94-2.06-.94L8.5 2.5l-.94 2.06-2.06.94zm10 10l.94 2.06.94-2.06 2.06-.94-2.06-.94-.94-2.06-.94 2.06-2.06.94z\"/><path d=\"M17.41 7.96l-1.37-1.37c-.4-.4-.92-.59-1.43-.59-.52 0-1.04.2-1.43.59L10.3 9.45l-7.72 7.72c-.78.78-.78 2.05 0 2.83L4 21.41c.39.39.9.59 1.41.59.51 0 1.02-.2 1.41-.59l7.78-7.78 2.81-2.81c.8-.78.8-2.07 0-2.86zM5.41 20L4 18.59l7.72-7.72 1.47 1.35L5.41 20z\"/>\n",
              "  </svg>\n",
              "      </button>\n",
              "      \n",
              "  <style>\n",
              "    .colab-df-container {\n",
              "      display:flex;\n",
              "      flex-wrap:wrap;\n",
              "      gap: 12px;\n",
              "    }\n",
              "\n",
              "    .colab-df-convert {\n",
              "      background-color: #E8F0FE;\n",
              "      border: none;\n",
              "      border-radius: 50%;\n",
              "      cursor: pointer;\n",
              "      display: none;\n",
              "      fill: #1967D2;\n",
              "      height: 32px;\n",
              "      padding: 0 0 0 0;\n",
              "      width: 32px;\n",
              "    }\n",
              "\n",
              "    .colab-df-convert:hover {\n",
              "      background-color: #E2EBFA;\n",
              "      box-shadow: 0px 1px 2px rgba(60, 64, 67, 0.3), 0px 1px 3px 1px rgba(60, 64, 67, 0.15);\n",
              "      fill: #174EA6;\n",
              "    }\n",
              "\n",
              "    [theme=dark] .colab-df-convert {\n",
              "      background-color: #3B4455;\n",
              "      fill: #D2E3FC;\n",
              "    }\n",
              "\n",
              "    [theme=dark] .colab-df-convert:hover {\n",
              "      background-color: #434B5C;\n",
              "      box-shadow: 0px 1px 3px 1px rgba(0, 0, 0, 0.15);\n",
              "      filter: drop-shadow(0px 1px 2px rgba(0, 0, 0, 0.3));\n",
              "      fill: #FFFFFF;\n",
              "    }\n",
              "  </style>\n",
              "\n",
              "      <script>\n",
              "        const buttonEl =\n",
              "          document.querySelector('#df-2901b0e4-e9df-4d38-bd5a-988f00a1d7af button.colab-df-convert');\n",
              "        buttonEl.style.display =\n",
              "          google.colab.kernel.accessAllowed ? 'block' : 'none';\n",
              "\n",
              "        async function convertToInteractive(key) {\n",
              "          const element = document.querySelector('#df-2901b0e4-e9df-4d38-bd5a-988f00a1d7af');\n",
              "          const dataTable =\n",
              "            await google.colab.kernel.invokeFunction('convertToInteractive',\n",
              "                                                     [key], {});\n",
              "          if (!dataTable) return;\n",
              "\n",
              "          const docLinkHtml = 'Like what you see? Visit the ' +\n",
              "            '<a target=\"_blank\" href=https://colab.research.google.com/notebooks/data_table.ipynb>data table notebook</a>'\n",
              "            + ' to learn more about interactive tables.';\n",
              "          element.innerHTML = '';\n",
              "          dataTable['output_type'] = 'display_data';\n",
              "          await google.colab.output.renderOutput(dataTable, element);\n",
              "          const docLink = document.createElement('div');\n",
              "          docLink.innerHTML = docLinkHtml;\n",
              "          element.appendChild(docLink);\n",
              "        }\n",
              "      </script>\n",
              "    </div>\n",
              "  </div>\n",
              "  "
            ]
          },
          "metadata": {},
          "execution_count": 57
        }
      ]
    },
    {
      "cell_type": "markdown",
      "source": [
        "Ответ: Какая книга последняя в отсортированном списке? Ответ: Jesus Calling: Enjoying Peace in His Presence"
      ],
      "metadata": {
        "id": "cKd_lZlCOMWA"
      }
    },
    {
      "cell_type": "markdown",
      "source": [
        "## Агрегирование данных и соединения таблиц"
      ],
      "metadata": {
        "id": "ox5aRC9zPcoh"
      }
    },
    {
      "cell_type": "markdown",
      "source": [
        "Для начала давайте посмотрим на максимальную и минимальную цены для каждого из жанров (используйте функции groupby и agg, для подсчета минимальных и максимальных значений используйте max и min). Не берите все столбцы, виберете только нужные вам"
      ],
      "metadata": {
        "id": "MG0M9drBPudL"
      }
    },
    {
      "cell_type": "code",
      "source": [
        "new_genre = get_data.groupby(['genre'])[['price']].agg(['min', 'max'])\n",
        "new_genre"
      ],
      "metadata": {
        "colab": {
          "base_uri": "https://localhost:8080/",
          "height": 175
        },
        "id": "1qi6VAQON_Xk",
        "outputId": "37dbeb97-7b2a-4d78-82d0-dd40da613f2a"
      },
      "execution_count": 58,
      "outputs": [
        {
          "output_type": "execute_result",
          "data": {
            "text/plain": [
              "            price     \n",
              "              min  max\n",
              "genre                 \n",
              "Fiction         0   82\n",
              "Non Fiction     0  105"
            ],
            "text/html": [
              "\n",
              "  <div id=\"df-98173ee9-0cc4-406c-be9a-add77a545128\">\n",
              "    <div class=\"colab-df-container\">\n",
              "      <div>\n",
              "<style scoped>\n",
              "    .dataframe tbody tr th:only-of-type {\n",
              "        vertical-align: middle;\n",
              "    }\n",
              "\n",
              "    .dataframe tbody tr th {\n",
              "        vertical-align: top;\n",
              "    }\n",
              "\n",
              "    .dataframe thead tr th {\n",
              "        text-align: left;\n",
              "    }\n",
              "\n",
              "    .dataframe thead tr:last-of-type th {\n",
              "        text-align: right;\n",
              "    }\n",
              "</style>\n",
              "<table border=\"1\" class=\"dataframe\">\n",
              "  <thead>\n",
              "    <tr>\n",
              "      <th></th>\n",
              "      <th colspan=\"2\" halign=\"left\">price</th>\n",
              "    </tr>\n",
              "    <tr>\n",
              "      <th></th>\n",
              "      <th>min</th>\n",
              "      <th>max</th>\n",
              "    </tr>\n",
              "    <tr>\n",
              "      <th>genre</th>\n",
              "      <th></th>\n",
              "      <th></th>\n",
              "    </tr>\n",
              "  </thead>\n",
              "  <tbody>\n",
              "    <tr>\n",
              "      <th>Fiction</th>\n",
              "      <td>0</td>\n",
              "      <td>82</td>\n",
              "    </tr>\n",
              "    <tr>\n",
              "      <th>Non Fiction</th>\n",
              "      <td>0</td>\n",
              "      <td>105</td>\n",
              "    </tr>\n",
              "  </tbody>\n",
              "</table>\n",
              "</div>\n",
              "      <button class=\"colab-df-convert\" onclick=\"convertToInteractive('df-98173ee9-0cc4-406c-be9a-add77a545128')\"\n",
              "              title=\"Convert this dataframe to an interactive table.\"\n",
              "              style=\"display:none;\">\n",
              "        \n",
              "  <svg xmlns=\"http://www.w3.org/2000/svg\" height=\"24px\"viewBox=\"0 0 24 24\"\n",
              "       width=\"24px\">\n",
              "    <path d=\"M0 0h24v24H0V0z\" fill=\"none\"/>\n",
              "    <path d=\"M18.56 5.44l.94 2.06.94-2.06 2.06-.94-2.06-.94-.94-2.06-.94 2.06-2.06.94zm-11 1L8.5 8.5l.94-2.06 2.06-.94-2.06-.94L8.5 2.5l-.94 2.06-2.06.94zm10 10l.94 2.06.94-2.06 2.06-.94-2.06-.94-.94-2.06-.94 2.06-2.06.94z\"/><path d=\"M17.41 7.96l-1.37-1.37c-.4-.4-.92-.59-1.43-.59-.52 0-1.04.2-1.43.59L10.3 9.45l-7.72 7.72c-.78.78-.78 2.05 0 2.83L4 21.41c.39.39.9.59 1.41.59.51 0 1.02-.2 1.41-.59l7.78-7.78 2.81-2.81c.8-.78.8-2.07 0-2.86zM5.41 20L4 18.59l7.72-7.72 1.47 1.35L5.41 20z\"/>\n",
              "  </svg>\n",
              "      </button>\n",
              "      \n",
              "  <style>\n",
              "    .colab-df-container {\n",
              "      display:flex;\n",
              "      flex-wrap:wrap;\n",
              "      gap: 12px;\n",
              "    }\n",
              "\n",
              "    .colab-df-convert {\n",
              "      background-color: #E8F0FE;\n",
              "      border: none;\n",
              "      border-radius: 50%;\n",
              "      cursor: pointer;\n",
              "      display: none;\n",
              "      fill: #1967D2;\n",
              "      height: 32px;\n",
              "      padding: 0 0 0 0;\n",
              "      width: 32px;\n",
              "    }\n",
              "\n",
              "    .colab-df-convert:hover {\n",
              "      background-color: #E2EBFA;\n",
              "      box-shadow: 0px 1px 2px rgba(60, 64, 67, 0.3), 0px 1px 3px 1px rgba(60, 64, 67, 0.15);\n",
              "      fill: #174EA6;\n",
              "    }\n",
              "\n",
              "    [theme=dark] .colab-df-convert {\n",
              "      background-color: #3B4455;\n",
              "      fill: #D2E3FC;\n",
              "    }\n",
              "\n",
              "    [theme=dark] .colab-df-convert:hover {\n",
              "      background-color: #434B5C;\n",
              "      box-shadow: 0px 1px 3px 1px rgba(0, 0, 0, 0.15);\n",
              "      filter: drop-shadow(0px 1px 2px rgba(0, 0, 0, 0.3));\n",
              "      fill: #FFFFFF;\n",
              "    }\n",
              "  </style>\n",
              "\n",
              "      <script>\n",
              "        const buttonEl =\n",
              "          document.querySelector('#df-98173ee9-0cc4-406c-be9a-add77a545128 button.colab-df-convert');\n",
              "        buttonEl.style.display =\n",
              "          google.colab.kernel.accessAllowed ? 'block' : 'none';\n",
              "\n",
              "        async function convertToInteractive(key) {\n",
              "          const element = document.querySelector('#df-98173ee9-0cc4-406c-be9a-add77a545128');\n",
              "          const dataTable =\n",
              "            await google.colab.kernel.invokeFunction('convertToInteractive',\n",
              "                                                     [key], {});\n",
              "          if (!dataTable) return;\n",
              "\n",
              "          const docLinkHtml = 'Like what you see? Visit the ' +\n",
              "            '<a target=\"_blank\" href=https://colab.research.google.com/notebooks/data_table.ipynb>data table notebook</a>'\n",
              "            + ' to learn more about interactive tables.';\n",
              "          element.innerHTML = '';\n",
              "          dataTable['output_type'] = 'display_data';\n",
              "          await google.colab.output.renderOutput(dataTable, element);\n",
              "          const docLink = document.createElement('div');\n",
              "          docLink.innerHTML = docLinkHtml;\n",
              "          element.appendChild(docLink);\n",
              "        }\n",
              "      </script>\n",
              "    </div>\n",
              "  </div>\n",
              "  "
            ]
          },
          "metadata": {},
          "execution_count": 58
        }
      ]
    },
    {
      "cell_type": "markdown",
      "source": [
        "Ответ: Максимальная цена для жанра Fiction: 82\n",
        "\n",
        "Ответ: Минимальная цена для жанра Fiction: 0\n",
        "\n",
        "Ответ: Максимальная цена для жанра Non Fiction: 105\n",
        "\n",
        "Ответ: Минимальная цена для жанра Non Fiction: 0"
      ],
      "metadata": {
        "id": "qqSVsPVKQq-g"
      }
    },
    {
      "cell_type": "markdown",
      "source": [
        "Теперь создайте новый датафрейм, который будет вмещать в себя количество книг для каждого из авторов (используйте функции groupby и agg, для подсчета количества используйте count). Не берите все столбцы, виберете только нужные"
      ],
      "metadata": {
        "id": "nI8SIWiAQ3lR"
      }
    },
    {
      "cell_type": "code",
      "source": [
        "new_data = get_data.groupby(['author'])[['name']].agg(['count'])\n",
        "new_data = new_data.sort_values(by='author')\n",
        "print(new_data)\n",
        "max_books = new_data.max()\n",
        "author_count = new_data[new_data[('name', 'count')] == max_books[('name', 'count')]]\n",
        "print(author_count)"
      ],
      "metadata": {
        "colab": {
          "base_uri": "https://localhost:8080/"
        },
        "id": "sQj7NEImQOTm",
        "outputId": "729e253f-0833-47ac-a5fb-af1cd438f8f0"
      },
      "execution_count": 62,
      "outputs": [
        {
          "output_type": "stream",
          "name": "stdout",
          "text": [
            "                            name\n",
            "                           count\n",
            "author                          \n",
            "Abraham Verghese               2\n",
            "Adam Gasiewski                 1\n",
            "Adam Mansbach                  1\n",
            "Adir Levy                      1\n",
            "Admiral William H. McRaven     1\n",
            "...                          ...\n",
            "Walter Isaacson                3\n",
            "William Davis                  2\n",
            "William P. Young               2\n",
            "Wizards RPG Team               3\n",
            "Zhi Gang Sha                   2\n",
            "\n",
            "[248 rows x 1 columns]\n",
            "             name\n",
            "            count\n",
            "author           \n",
            "Jeff Kinney    12\n"
          ]
        }
      ]
    },
    {
      "cell_type": "markdown",
      "source": [
        "Ответ: Какой размерности вышла таблица? 248 x 1\n",
        "\n",
        "Ответ: У какого автора больше всего книг? Jeff Kinney\n",
        "\n",
        "Ответ: Сколько книг у этого автора? 12"
      ],
      "metadata": {
        "id": "0bvDl3LGSJcA"
      }
    },
    {
      "cell_type": "markdown",
      "source": [
        "Теперь создайте второй датафрейм, который будет вмещать средний рейтинг для каждого автора (используйте функции groupby и agg, для подсчета среднего значения используйте mean). Не берите все столбцы, виберете только нужные"
      ],
      "metadata": {
        "id": "d8u8NcWdTMtA"
      }
    },
    {
      "cell_type": "code",
      "source": [
        "new_data_2 = get_data.groupby(['author'])[['user_rating']].agg(['mean'])\n",
        "print(new_data_2)\n",
        "min_rating = new_data_2[['user_rating']].min().min()\n",
        "author = get_data[get_data['user_rating'] == min_rating]\n",
        "author"
      ],
      "metadata": {
        "colab": {
          "base_uri": "https://localhost:8080/",
          "height": 421
        },
        "id": "s2VYki7JRMpK",
        "outputId": "264ac2aa-8cfd-46dc-ab50-9a501bd32a55"
      },
      "execution_count": 64,
      "outputs": [
        {
          "output_type": "stream",
          "name": "stdout",
          "text": [
            "                           user_rating\n",
            "                                  mean\n",
            "author                                \n",
            "Abraham Verghese              4.600000\n",
            "Adam Gasiewski                4.400000\n",
            "Adam Mansbach                 4.800000\n",
            "Adir Levy                     4.800000\n",
            "Admiral William H. McRaven    4.700000\n",
            "...                                ...\n",
            "Walter Isaacson               4.566667\n",
            "William Davis                 4.400000\n",
            "William P. Young              4.600000\n",
            "Wizards RPG Team              4.800000\n",
            "Zhi Gang Sha                  4.600000\n",
            "\n",
            "[248 rows x 1 columns]\n"
          ]
        },
        {
          "output_type": "execute_result",
          "data": {
            "text/plain": [
              "                                                  name         author  \\\n",
              "22                                           Allegiant  Veronica Roth   \n",
              "392  The Goldfinch: A Novel (Pulitzer Prize for Fic...    Donna Tartt   \n",
              "393  The Goldfinch: A Novel (Pulitzer Prize for Fic...    Donna Tartt   \n",
              "\n",
              "     user_rating  reviews  price  year    genre  \n",
              "22           3.9     6310     13  2013  Fiction  \n",
              "392          3.9    33844     20  2013  Fiction  \n",
              "393          3.9    33844     20  2014  Fiction  "
            ],
            "text/html": [
              "\n",
              "  <div id=\"df-b3c5c67d-d4c9-4c45-8287-84d4d78a6cd2\">\n",
              "    <div class=\"colab-df-container\">\n",
              "      <div>\n",
              "<style scoped>\n",
              "    .dataframe tbody tr th:only-of-type {\n",
              "        vertical-align: middle;\n",
              "    }\n",
              "\n",
              "    .dataframe tbody tr th {\n",
              "        vertical-align: top;\n",
              "    }\n",
              "\n",
              "    .dataframe thead th {\n",
              "        text-align: right;\n",
              "    }\n",
              "</style>\n",
              "<table border=\"1\" class=\"dataframe\">\n",
              "  <thead>\n",
              "    <tr style=\"text-align: right;\">\n",
              "      <th></th>\n",
              "      <th>name</th>\n",
              "      <th>author</th>\n",
              "      <th>user_rating</th>\n",
              "      <th>reviews</th>\n",
              "      <th>price</th>\n",
              "      <th>year</th>\n",
              "      <th>genre</th>\n",
              "    </tr>\n",
              "  </thead>\n",
              "  <tbody>\n",
              "    <tr>\n",
              "      <th>22</th>\n",
              "      <td>Allegiant</td>\n",
              "      <td>Veronica Roth</td>\n",
              "      <td>3.9</td>\n",
              "      <td>6310</td>\n",
              "      <td>13</td>\n",
              "      <td>2013</td>\n",
              "      <td>Fiction</td>\n",
              "    </tr>\n",
              "    <tr>\n",
              "      <th>392</th>\n",
              "      <td>The Goldfinch: A Novel (Pulitzer Prize for Fic...</td>\n",
              "      <td>Donna Tartt</td>\n",
              "      <td>3.9</td>\n",
              "      <td>33844</td>\n",
              "      <td>20</td>\n",
              "      <td>2013</td>\n",
              "      <td>Fiction</td>\n",
              "    </tr>\n",
              "    <tr>\n",
              "      <th>393</th>\n",
              "      <td>The Goldfinch: A Novel (Pulitzer Prize for Fic...</td>\n",
              "      <td>Donna Tartt</td>\n",
              "      <td>3.9</td>\n",
              "      <td>33844</td>\n",
              "      <td>20</td>\n",
              "      <td>2014</td>\n",
              "      <td>Fiction</td>\n",
              "    </tr>\n",
              "  </tbody>\n",
              "</table>\n",
              "</div>\n",
              "      <button class=\"colab-df-convert\" onclick=\"convertToInteractive('df-b3c5c67d-d4c9-4c45-8287-84d4d78a6cd2')\"\n",
              "              title=\"Convert this dataframe to an interactive table.\"\n",
              "              style=\"display:none;\">\n",
              "        \n",
              "  <svg xmlns=\"http://www.w3.org/2000/svg\" height=\"24px\"viewBox=\"0 0 24 24\"\n",
              "       width=\"24px\">\n",
              "    <path d=\"M0 0h24v24H0V0z\" fill=\"none\"/>\n",
              "    <path d=\"M18.56 5.44l.94 2.06.94-2.06 2.06-.94-2.06-.94-.94-2.06-.94 2.06-2.06.94zm-11 1L8.5 8.5l.94-2.06 2.06-.94-2.06-.94L8.5 2.5l-.94 2.06-2.06.94zm10 10l.94 2.06.94-2.06 2.06-.94-2.06-.94-.94-2.06-.94 2.06-2.06.94z\"/><path d=\"M17.41 7.96l-1.37-1.37c-.4-.4-.92-.59-1.43-.59-.52 0-1.04.2-1.43.59L10.3 9.45l-7.72 7.72c-.78.78-.78 2.05 0 2.83L4 21.41c.39.39.9.59 1.41.59.51 0 1.02-.2 1.41-.59l7.78-7.78 2.81-2.81c.8-.78.8-2.07 0-2.86zM5.41 20L4 18.59l7.72-7.72 1.47 1.35L5.41 20z\"/>\n",
              "  </svg>\n",
              "      </button>\n",
              "      \n",
              "  <style>\n",
              "    .colab-df-container {\n",
              "      display:flex;\n",
              "      flex-wrap:wrap;\n",
              "      gap: 12px;\n",
              "    }\n",
              "\n",
              "    .colab-df-convert {\n",
              "      background-color: #E8F0FE;\n",
              "      border: none;\n",
              "      border-radius: 50%;\n",
              "      cursor: pointer;\n",
              "      display: none;\n",
              "      fill: #1967D2;\n",
              "      height: 32px;\n",
              "      padding: 0 0 0 0;\n",
              "      width: 32px;\n",
              "    }\n",
              "\n",
              "    .colab-df-convert:hover {\n",
              "      background-color: #E2EBFA;\n",
              "      box-shadow: 0px 1px 2px rgba(60, 64, 67, 0.3), 0px 1px 3px 1px rgba(60, 64, 67, 0.15);\n",
              "      fill: #174EA6;\n",
              "    }\n",
              "\n",
              "    [theme=dark] .colab-df-convert {\n",
              "      background-color: #3B4455;\n",
              "      fill: #D2E3FC;\n",
              "    }\n",
              "\n",
              "    [theme=dark] .colab-df-convert:hover {\n",
              "      background-color: #434B5C;\n",
              "      box-shadow: 0px 1px 3px 1px rgba(0, 0, 0, 0.15);\n",
              "      filter: drop-shadow(0px 1px 2px rgba(0, 0, 0, 0.3));\n",
              "      fill: #FFFFFF;\n",
              "    }\n",
              "  </style>\n",
              "\n",
              "      <script>\n",
              "        const buttonEl =\n",
              "          document.querySelector('#df-b3c5c67d-d4c9-4c45-8287-84d4d78a6cd2 button.colab-df-convert');\n",
              "        buttonEl.style.display =\n",
              "          google.colab.kernel.accessAllowed ? 'block' : 'none';\n",
              "\n",
              "        async function convertToInteractive(key) {\n",
              "          const element = document.querySelector('#df-b3c5c67d-d4c9-4c45-8287-84d4d78a6cd2');\n",
              "          const dataTable =\n",
              "            await google.colab.kernel.invokeFunction('convertToInteractive',\n",
              "                                                     [key], {});\n",
              "          if (!dataTable) return;\n",
              "\n",
              "          const docLinkHtml = 'Like what you see? Visit the ' +\n",
              "            '<a target=\"_blank\" href=https://colab.research.google.com/notebooks/data_table.ipynb>data table notebook</a>'\n",
              "            + ' to learn more about interactive tables.';\n",
              "          element.innerHTML = '';\n",
              "          dataTable['output_type'] = 'display_data';\n",
              "          await google.colab.output.renderOutput(dataTable, element);\n",
              "          const docLink = document.createElement('div');\n",
              "          docLink.innerHTML = docLinkHtml;\n",
              "          element.appendChild(docLink);\n",
              "        }\n",
              "      </script>\n",
              "    </div>\n",
              "  </div>\n",
              "  "
            ]
          },
          "metadata": {},
          "execution_count": 64
        }
      ]
    },
    {
      "cell_type": "markdown",
      "source": [
        "Соедините последние два датафрейма так, чтобы для каждого автора было видно количество книг и средний рейтинг (Используйте функцию concat с параметром axis=1). Сохраните результат в переменную"
      ],
      "metadata": {
        "id": "PEyr04aSxcej"
      }
    },
    {
      "cell_type": "code",
      "source": [
        "df = pd.concat([new_data[('name')], new_data_2[('user_rating', 'mean')]], axis=1)\n",
        "print(df)"
      ],
      "metadata": {
        "id": "f_ZJ75FP8Scb",
        "colab": {
          "base_uri": "https://localhost:8080/"
        },
        "outputId": "a24de5f7-8e3a-40b8-d707-632da91071ad"
      },
      "execution_count": 70,
      "outputs": [
        {
          "output_type": "stream",
          "name": "stdout",
          "text": [
            "                            count  (user_rating, mean)\n",
            "author                                                \n",
            "Abraham Verghese                2             4.600000\n",
            "Adam Gasiewski                  1             4.400000\n",
            "Adam Mansbach                   1             4.800000\n",
            "Adir Levy                       1             4.800000\n",
            "Admiral William H. McRaven      1             4.700000\n",
            "...                           ...                  ...\n",
            "Walter Isaacson                 3             4.566667\n",
            "William Davis                   2             4.400000\n",
            "William P. Young                2             4.600000\n",
            "Wizards RPG Team                3             4.800000\n",
            "Zhi Gang Sha                    2             4.600000\n",
            "\n",
            "[248 rows x 2 columns]\n"
          ]
        }
      ]
    },
    {
      "cell_type": "markdown",
      "source": [
        "Отсортируйте датафрейм по возрастающему количеству книг и возрастающему рейтингу (используйте функцию sort_values)"
      ],
      "metadata": {
        "id": "C9cDQ1t09qlB"
      }
    },
    {
      "cell_type": "code",
      "source": [
        "print(df.sort_values(by=[('user_rating', 'mean'), ('count')], ascending=False))"
      ],
      "metadata": {
        "colab": {
          "base_uri": "https://localhost:8080/"
        },
        "id": "wezIYwmSz1qd",
        "outputId": "75b011d0-579d-46d1-ed01-1b1f7a542276"
      },
      "execution_count": 72,
      "outputs": [
        {
          "output_type": "stream",
          "name": "stdout",
          "text": [
            "                       count  (user_rating, mean)\n",
            "author                                           \n",
            "Dav Pilkey                 7                  4.9\n",
            "Eric Carle                 7                  4.9\n",
            "Sarah Young                6                  4.9\n",
            "Emily Winfield Martin      4                  4.9\n",
            "Bill Martin Jr.            2                  4.9\n",
            "...                      ...                  ...\n",
            "Pierre Dukan               1                  4.1\n",
            "Gallup                     9                  4.0\n",
            "Gillian Flynn              3                  4.0\n",
            "Muriel Barbery             1                  4.0\n",
            "Donna Tartt                2                  3.9\n",
            "\n",
            "[248 rows x 2 columns]\n"
          ]
        }
      ]
    },
    {
      "cell_type": "markdown",
      "source": [
        "Ответ: Какой автор первый в списке? Відповідь: Dav Pilkey"
      ],
      "metadata": {
        "id": "qmLQL5Rs9y05"
      }
    }
  ]
}